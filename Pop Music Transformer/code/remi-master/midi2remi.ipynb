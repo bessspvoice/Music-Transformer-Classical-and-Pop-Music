{
 "cells": [
  {
   "cell_type": "code",
   "execution_count": 3,
   "metadata": {},
   "outputs": [],
   "source": [
    "import miditoolkit\n",
    "import utils"
   ]
  },
  {
   "cell_type": "markdown",
   "metadata": {},
   "source": [
    "# Read MIDI (example)"
   ]
  },
  {
   "cell_type": "code",
   "execution_count": 4,
   "metadata": {},
   "outputs": [],
   "source": [
    "midi_obj = miditoolkit.midi.parser.MidiFile('./data/evaluation/000.midi')"
   ]
  },
  {
   "cell_type": "code",
   "execution_count": 6,
   "metadata": {},
   "outputs": [
    {
     "name": "stdout",
     "output_type": "stream",
     "text": [
      "Note(start=956, end=1530, pitch=59, velocity=55)\n",
      "Note(start=1420, end=1998, pitch=60, velocity=57)\n",
      "Note(start=1921, end=2519, pitch=43, velocity=58)\n",
      "Note(start=3372, end=3848, pitch=67, velocity=64)\n",
      "Note(start=1885, end=3960, pitch=62, velocity=71)\n",
      "Note(start=2410, end=4109, pitch=50, velocity=62)\n",
      "Note(start=2886, end=5285, pitch=59, velocity=69)\n",
      "Note(start=5285, end=5872, pitch=59, velocity=68)\n",
      "Note(start=3848, end=5910, pitch=67, velocity=71)\n",
      "Note(start=5761, end=6723, pitch=60, velocity=72)\n",
      "Note(start=6247, end=6795, pitch=52, velocity=57)\n",
      "Note(start=5761, end=6904, pitch=43, velocity=66)\n",
      "Note(start=7198, end=7673, pitch=69, velocity=68)\n",
      "Note(start=6723, end=8710, pitch=60, velocity=66)\n"
     ]
    }
   ],
   "source": [
    "print(*midi_obj.instruments[0].notes, sep='\\n')"
   ]
  },
  {
   "cell_type": "code",
   "execution_count": 9,
   "metadata": {},
   "outputs": [
    {
     "name": "stdout",
     "output_type": "stream",
     "text": [
      "120.0 BPM at 0 ticks\n",
      "23.529411764705884 BPM at 480 ticks\n",
      "146.34146341463415 BPM at 960 ticks\n",
      "139.53488372093022 BPM at 1440 ticks\n",
      "146.34146341463415 BPM at 1920 ticks\n",
      "142.85714285714286 BPM at 2400 ticks\n",
      "146.34146341463415 BPM at 2880 ticks\n",
      "142.85714285714286 BPM at 3360 ticks\n",
      "146.34146341463415 BPM at 3840 ticks\n",
      "142.85714285714286 BPM at 4320 ticks\n"
     ]
    }
   ],
   "source": [
    "print(*midi_obj.tempo_changes[:10], sep='\\n')"
   ]
  },
  {
   "cell_type": "markdown",
   "metadata": {},
   "source": [
    "# Convert to REMI events"
   ]
  },
  {
   "cell_type": "markdown",
   "metadata": {},
   "source": [
    "## 1. Read midi into \"Item\""
   ]
  },
  {
   "cell_type": "code",
   "execution_count": 10,
   "metadata": {},
   "outputs": [],
   "source": [
    "note_items, tempo_items = utils.read_items('./data/evaluation/000.midi')"
   ]
  },
  {
   "cell_type": "code",
   "execution_count": 11,
   "metadata": {},
   "outputs": [
    {
     "name": "stdout",
     "output_type": "stream",
     "text": [
      "Item(name=Note, start=956, end=1530, velocity=55, pitch=59)\n",
      "Item(name=Note, start=1420, end=1998, velocity=57, pitch=60)\n",
      "Item(name=Note, start=1885, end=3960, velocity=71, pitch=62)\n",
      "Item(name=Note, start=1921, end=2519, velocity=58, pitch=43)\n",
      "Item(name=Note, start=2410, end=4109, velocity=62, pitch=50)\n",
      "Item(name=Note, start=2886, end=5285, velocity=69, pitch=59)\n",
      "Item(name=Note, start=3372, end=3848, velocity=64, pitch=67)\n",
      "Item(name=Note, start=3848, end=5910, velocity=71, pitch=67)\n",
      "Item(name=Note, start=5285, end=5872, velocity=68, pitch=59)\n",
      "Item(name=Note, start=5761, end=6904, velocity=66, pitch=43)\n",
      "Item(name=Note, start=5761, end=6723, velocity=72, pitch=60)\n",
      "Item(name=Note, start=6247, end=6795, velocity=57, pitch=52)\n",
      "Item(name=Note, start=6723, end=8710, velocity=66, pitch=60)\n",
      "Item(name=Note, start=7198, end=7673, velocity=68, pitch=69)\n"
     ]
    }
   ],
   "source": [
    "print(*note_items, sep='\\n')"
   ]
  },
  {
   "cell_type": "code",
   "execution_count": 13,
   "metadata": {},
   "outputs": [
    {
     "name": "stdout",
     "output_type": "stream",
     "text": [
      "Item(name=Tempo, start=0, end=None, velocity=None, pitch=120)\n",
      "Item(name=Tempo, start=480, end=None, velocity=None, pitch=23)\n",
      "Item(name=Tempo, start=960, end=None, velocity=None, pitch=146)\n",
      "Item(name=Tempo, start=1440, end=None, velocity=None, pitch=139)\n",
      "Item(name=Tempo, start=1920, end=None, velocity=None, pitch=146)\n",
      "Item(name=Tempo, start=2400, end=None, velocity=None, pitch=142)\n",
      "Item(name=Tempo, start=2880, end=None, velocity=None, pitch=146)\n",
      "Item(name=Tempo, start=3360, end=None, velocity=None, pitch=142)\n",
      "Item(name=Tempo, start=3840, end=None, velocity=None, pitch=146)\n",
      "Item(name=Tempo, start=4320, end=None, velocity=None, pitch=142)\n"
     ]
    }
   ],
   "source": [
    "print(*tempo_items[:10], sep='\\n')"
   ]
  },
  {
   "cell_type": "markdown",
   "metadata": {},
   "source": [
    "## 2. Quantize note items"
   ]
  },
  {
   "cell_type": "code",
   "execution_count": 14,
   "metadata": {},
   "outputs": [],
   "source": [
    "note_items = utils.quantize_items(note_items)"
   ]
  },
  {
   "cell_type": "code",
   "execution_count": 15,
   "metadata": {},
   "outputs": [
    {
     "name": "stdout",
     "output_type": "stream",
     "text": [
      "Item(name=Note, start=960, end=1534, velocity=55, pitch=59)\n",
      "Item(name=Note, start=1440, end=2018, velocity=57, pitch=60)\n",
      "Item(name=Note, start=1920, end=3995, velocity=71, pitch=62)\n",
      "Item(name=Note, start=1920, end=2518, velocity=58, pitch=43)\n",
      "Item(name=Note, start=2400, end=4099, velocity=62, pitch=50)\n",
      "Item(name=Note, start=2880, end=5279, velocity=69, pitch=59)\n",
      "Item(name=Note, start=3360, end=3836, velocity=64, pitch=67)\n",
      "Item(name=Note, start=3840, end=5902, velocity=71, pitch=67)\n",
      "Item(name=Note, start=5280, end=5867, velocity=68, pitch=59)\n",
      "Item(name=Note, start=5760, end=6903, velocity=66, pitch=43)\n",
      "Item(name=Note, start=5760, end=6722, velocity=72, pitch=60)\n",
      "Item(name=Note, start=6240, end=6788, velocity=57, pitch=52)\n",
      "Item(name=Note, start=6720, end=8707, velocity=66, pitch=60)\n",
      "Item(name=Note, start=7080, end=7555, velocity=68, pitch=69)\n"
     ]
    }
   ],
   "source": [
    "print(*note_items, sep='\\n')"
   ]
  },
  {
   "cell_type": "markdown",
   "metadata": {},
   "source": [
    "## 3. extract chord (if needed)"
   ]
  },
  {
   "cell_type": "code",
   "execution_count": 16,
   "metadata": {},
   "outputs": [],
   "source": [
    "chord_items = utils.extract_chords(note_items)"
   ]
  },
  {
   "cell_type": "code",
   "execution_count": 17,
   "metadata": {},
   "outputs": [
    {
     "name": "stdout",
     "output_type": "stream",
     "text": [
      "Item(name=Chord, start=0, end=960, velocity=None, pitch=N:N)\n",
      "Item(name=Chord, start=960, end=2880, velocity=None, pitch=G:maj)\n",
      "Item(name=Chord, start=2880, end=4800, velocity=None, pitch=G:maj)\n",
      "Item(name=Chord, start=4800, end=6720, velocity=None, pitch=C:maj)\n",
      "Item(name=Chord, start=6720, end=8707, velocity=None, pitch=A:min)\n"
     ]
    }
   ],
   "source": [
    "print(*chord_items, sep='\\n')"
   ]
  },
  {
   "cell_type": "markdown",
   "metadata": {},
   "source": [
    "## 4. group items"
   ]
  },
  {
   "cell_type": "code",
   "execution_count": 18,
   "metadata": {},
   "outputs": [],
   "source": [
    "items = chord_items + tempo_items + note_items\n",
    "max_time = note_items[-1].end\n",
    "groups = utils.group_items(items, max_time)"
   ]
  },
  {
   "cell_type": "code",
   "execution_count": 19,
   "metadata": {},
   "outputs": [
    {
     "name": "stdout",
     "output_type": "stream",
     "text": [
      "0\n",
      "Item(name=Chord, start=0, end=960, velocity=None, pitch=N:N)\n",
      "Item(name=Tempo, start=0, end=None, velocity=None, pitch=120)\n",
      "Item(name=Tempo, start=480, end=None, velocity=None, pitch=23)\n",
      "Item(name=Chord, start=960, end=2880, velocity=None, pitch=G:maj)\n",
      "Item(name=Tempo, start=960, end=None, velocity=None, pitch=146)\n",
      "Item(name=Note, start=960, end=1534, velocity=55, pitch=59)\n",
      "Item(name=Tempo, start=1440, end=None, velocity=None, pitch=139)\n",
      "Item(name=Note, start=1440, end=2018, velocity=57, pitch=60)\n",
      "1920\n",
      "\n",
      "1920\n",
      "Item(name=Tempo, start=1920, end=None, velocity=None, pitch=146)\n",
      "Item(name=Note, start=1920, end=3995, velocity=71, pitch=62)\n",
      "Item(name=Note, start=1920, end=2518, velocity=58, pitch=43)\n",
      "Item(name=Tempo, start=2400, end=None, velocity=None, pitch=142)\n",
      "Item(name=Note, start=2400, end=4099, velocity=62, pitch=50)\n",
      "Item(name=Chord, start=2880, end=4800, velocity=None, pitch=G:maj)\n",
      "Item(name=Tempo, start=2880, end=None, velocity=None, pitch=146)\n",
      "Item(name=Note, start=2880, end=5279, velocity=69, pitch=59)\n",
      "Item(name=Tempo, start=3360, end=None, velocity=None, pitch=142)\n",
      "Item(name=Note, start=3360, end=3836, velocity=64, pitch=67)\n",
      "3840\n",
      "\n",
      "3840\n",
      "Item(name=Tempo, start=3840, end=None, velocity=None, pitch=146)\n",
      "Item(name=Note, start=3840, end=5902, velocity=71, pitch=67)\n",
      "Item(name=Tempo, start=4320, end=None, velocity=None, pitch=142)\n",
      "Item(name=Chord, start=4800, end=6720, velocity=None, pitch=C:maj)\n",
      "Item(name=Tempo, start=4800, end=None, velocity=None, pitch=142)\n",
      "Item(name=Tempo, start=5280, end=None, velocity=None, pitch=142)\n",
      "Item(name=Note, start=5280, end=5867, velocity=68, pitch=59)\n",
      "5760\n",
      "\n",
      "5760\n",
      "Item(name=Tempo, start=5760, end=None, velocity=None, pitch=146)\n",
      "Item(name=Note, start=5760, end=6903, velocity=66, pitch=43)\n",
      "Item(name=Note, start=5760, end=6722, velocity=72, pitch=60)\n",
      "Item(name=Tempo, start=6240, end=None, velocity=None, pitch=142)\n",
      "Item(name=Note, start=6240, end=6788, velocity=57, pitch=52)\n",
      "Item(name=Chord, start=6720, end=8707, velocity=None, pitch=A:min)\n",
      "Item(name=Tempo, start=6720, end=None, velocity=None, pitch=142)\n",
      "Item(name=Note, start=6720, end=8707, velocity=66, pitch=60)\n",
      "Item(name=Note, start=7080, end=7555, velocity=68, pitch=69)\n",
      "Item(name=Tempo, start=7200, end=None, velocity=None, pitch=142)\n",
      "7680\n",
      "\n"
     ]
    }
   ],
   "source": [
    "for g in groups:\n",
    "    print(*g, sep='\\n')\n",
    "    print()"
   ]
  },
  {
   "cell_type": "markdown",
   "metadata": {},
   "source": [
    "## 5. \"Item\" to \"Event\""
   ]
  },
  {
   "cell_type": "code",
   "execution_count": 20,
   "metadata": {},
   "outputs": [],
   "source": [
    "events = utils.item2event(groups)"
   ]
  },
  {
   "cell_type": "code",
   "execution_count": 23,
   "metadata": {},
   "outputs": [
    {
     "name": "stdout",
     "output_type": "stream",
     "text": [
      "Event(name=Bar, time=None, value=None, text=1)\n",
      "Event(name=Position, time=0, value=1/16, text=0)\n",
      "Event(name=Chord, time=0, value=N:N, text=N:N)\n",
      "Event(name=Position, time=0, value=1/16, text=0)\n",
      "Event(name=Tempo Class, time=0, value=mid, text=None)\n",
      "Event(name=Tempo Value, time=0, value=30, text=None)\n",
      "Event(name=Position, time=480, value=5/16, text=480)\n",
      "Event(name=Tempo Class, time=480, value=slow, text=None)\n",
      "Event(name=Tempo Value, time=480, value=0, text=None)\n",
      "Event(name=Position, time=960, value=9/16, text=960)\n",
      "Event(name=Chord, time=960, value=G:maj, text=G:maj)\n",
      "Event(name=Position, time=960, value=9/16, text=960)\n",
      "Event(name=Tempo Class, time=960, value=mid, text=None)\n",
      "Event(name=Tempo Value, time=960, value=56, text=None)\n",
      "Event(name=Position, time=960, value=9/16, text=960)\n",
      "Event(name=Note Velocity, time=960, value=13, text=55/52)\n",
      "Event(name=Note On, time=960, value=59, text=59)\n",
      "Event(name=Note Duration, time=960, value=9, text=574/600)\n",
      "Event(name=Position, time=1440, value=13/16, text=1440)\n",
      "Event(name=Tempo Class, time=1440, value=mid, text=None)\n",
      "Event(name=Tempo Value, time=1440, value=49, text=None)\n",
      "Event(name=Position, time=1440, value=13/16, text=1440)\n",
      "Event(name=Note Velocity, time=1440, value=14, text=57/56)\n",
      "Event(name=Note On, time=1440, value=60, text=60)\n",
      "Event(name=Note Duration, time=1440, value=9, text=578/600)\n",
      "Event(name=Bar, time=None, value=None, text=2)\n",
      "Event(name=Position, time=1920, value=1/16, text=1920)\n",
      "Event(name=Tempo Class, time=1920, value=mid, text=None)\n",
      "Event(name=Tempo Value, time=1920, value=56, text=None)\n",
      "Event(name=Position, time=1920, value=1/16, text=1920)\n"
     ]
    }
   ],
   "source": [
    "print(*events[:30], sep='\\n')"
   ]
  }
 ],
 "metadata": {
  "kernelspec": {
   "display_name": "Python 3",
   "language": "python",
   "name": "python3"
  },
  "language_info": {
   "codemirror_mode": {
    "name": "ipython",
    "version": 3
   },
   "file_extension": ".py",
   "mimetype": "text/x-python",
   "name": "python",
   "nbconvert_exporter": "python",
   "pygments_lexer": "ipython3",
   "version": "3.7.6"
  }
 },
 "nbformat": 4,
 "nbformat_minor": 4
}
